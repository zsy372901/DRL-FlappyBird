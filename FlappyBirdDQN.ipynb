{
 "cells": [
  {
   "cell_type": "code",
   "execution_count": null,
   "metadata": {
    "scrolled": true
   },
   "outputs": [],
   "source": [
    "# -------------------------\n",
    "# Project: Deep Q-Learning on Flappy Bird\n",
    "# Author: Shouyi Zhang\n",
    "# Date: 2017.09.10\n",
    "# -------------------------\n",
    "\n",
    "import cv2\n",
    "import sys\n",
    "sys.path.append(\"game/\")\n",
    "import wrapped_flappy_bird as game\n",
    "from BrainDQN_Nature import BrainDQN\n",
    "import numpy as np\n",
    "\n",
    "# preprocess raw image to 80*80 gray image\n",
    "def preprocess(observation):\n",
    "\tobservation = cv2.cvtColor(cv2.resize(observation, (80, 80)), cv2.COLOR_BGR2GRAY)\n",
    "\tret, observation = cv2.threshold(observation,1,255,cv2.THRESH_BINARY)\n",
    "\treturn np.reshape(observation,(80,80,1))\n",
    "\n",
    "def playFlappyBird():\n",
    "\t# Step 1: init BrainDQN\n",
    "\tactions = 2\n",
    "\tbrain = BrainDQN(actions)\n",
    "\t# Step 2: init Flappy Bird Game\n",
    "\tflappyBird = game.GameState()\n",
    "\t# Step 3: play game\n",
    "\t# Step 3.1: obtain init state\n",
    "\taction0 = np.array([1,0])  # do nothing\n",
    "\tobservation0, reward0, terminal = flappyBird.frame_step(action0)\n",
    "\tobservation0 = cv2.cvtColor(cv2.resize(observation0, (80, 80)), cv2.COLOR_BGR2GRAY)\n",
    "\tret, observation0 = cv2.threshold(observation0,1,255,cv2.THRESH_BINARY)\n",
    "\tbrain.setInitState(observation0)\n",
    "\n",
    "\t# Step 3.2: run the game\n",
    "\twhile 1!= 0:\n",
    "\t\taction = brain.getAction()\n",
    "\t\tnextObservation,reward,terminal = flappyBird.frame_step(action)\n",
    "\t\tnextObservation = preprocess(nextObservation)\n",
    "\t\tbrain.setPerception(nextObservation,action,reward,terminal)\n",
    "\n",
    "def main():\n",
    "\tplayFlappyBird()\n",
    "\n",
    "if __name__ == '__main__':\n",
    "\tmain()"
   ]
  },
  {
   "cell_type": "code",
   "execution_count": null,
   "metadata": {
    "collapsed": true
   },
   "outputs": [],
   "source": []
  }
 ],
 "metadata": {
  "kernelspec": {
   "display_name": "Python 2",
   "language": "python",
   "name": "python2"
  },
  "language_info": {
   "codemirror_mode": {
    "name": "ipython",
    "version": 2
   },
   "file_extension": ".py",
   "mimetype": "text/x-python",
   "name": "python",
   "nbconvert_exporter": "python",
   "pygments_lexer": "ipython2",
   "version": "2.7.13"
  }
 },
 "nbformat": 4,
 "nbformat_minor": 2
}
